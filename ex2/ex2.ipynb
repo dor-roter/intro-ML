{
 "cells": [
  {
   "cell_type": "code",
   "execution_count": 2,
   "metadata": {},
   "outputs": [],
   "source": [
    "import pandas as pd\n",
    "import matplotlib.pyplot as plt\n",
    "import numpy as np\n",
    "import scipy.linalg as la\n",
    "import seaborn as sns\n",
    "\n",
    "import linear_model\n",
    "from matplotlib.colors import LogNorm\n",
    "\n",
    "np.set_printoptions(suppress=True)\n",
    "DATETIME_FORMAT = \"%Y%m%dT000000\""
   ]
  },
  {
   "cell_type": "markdown",
   "metadata": {
    "pycharm": {
     "name": "#%% md\n"
    }
   },
   "source": [
    "retrieve dataframe from csv:"
   ]
  },
  {
   "cell_type": "code",
   "execution_count": 3,
   "metadata": {
    "pycharm": {
     "name": "#%%\n"
    }
   },
   "outputs": [],
   "source": [
    "df = linear_model.load_data('kc_house_data.csv')"
   ]
  },
  {
   "cell_type": "code",
   "execution_count": 4,
   "outputs": [
    {
     "data": {
      "text/plain": "       intercept     price  bedrooms  bathrooms  sqft_living  sqft_lot  \\\n0            1.0  221900.0         3       1.00         1180      5650   \n1            1.0  538000.0         3       2.25         2570      7242   \n2            1.0  180000.0         2       1.00          770     10000   \n3            1.0  604000.0         4       3.00         1960      5000   \n4            1.0  510000.0         3       2.00         1680      8080   \n...          ...       ...       ...        ...          ...       ...   \n21611        1.0  360000.0         3       2.50         1530      1131   \n21612        1.0  400000.0         4       2.50         2310      5813   \n21613        1.0  402101.0         2       0.75         1020      1350   \n21614        1.0  400000.0         3       2.50         1600      2388   \n21615        1.0  325000.0         2       0.75         1020      1076   \n\n       floors  waterfront  view  condition  ...  yr_renovated_1930  \\\n0         1.0           0   0.0        3.0  ...                  0   \n1         2.0           0   0.0        3.0  ...                  0   \n2         1.0           0   0.0        3.0  ...                  0   \n3         1.0           0   0.0        5.0  ...                  0   \n4         1.0           0   0.0        3.0  ...                  0   \n...       ...         ...   ...        ...  ...                ...   \n21611     3.0           0   0.0        3.0  ...                  0   \n21612     2.0           0   0.0        3.0  ...                  0   \n21613     2.0           0   0.0        3.0  ...                  0   \n21614     2.0           0   0.0        3.0  ...                  0   \n21615     2.0           0   0.0        3.0  ...                  0   \n\n       yr_renovated_1940  yr_renovated_1950  yr_renovated_1960  \\\n0                      0                  0                  0   \n1                      0                  0                  0   \n2                      0                  0                  0   \n3                      0                  0                  0   \n4                      0                  0                  0   \n...                  ...                ...                ...   \n21611                  0                  0                  0   \n21612                  0                  0                  0   \n21613                  0                  0                  0   \n21614                  0                  0                  0   \n21615                  0                  0                  0   \n\n       yr_renovated_1970  yr_renovated_1980  yr_renovated_1990  \\\n0                      0                  0                  0   \n1                      0                  0                  1   \n2                      0                  0                  0   \n3                      0                  0                  0   \n4                      0                  0                  0   \n...                  ...                ...                ...   \n21611                  0                  0                  0   \n21612                  0                  0                  0   \n21613                  0                  0                  0   \n21614                  0                  0                  0   \n21615                  0                  0                  0   \n\n       yr_renovated_2000  yr_renovated_2010  yr_renovated_2020  \n0                      0                  0                  0  \n1                      0                  0                  0  \n2                      0                  0                  0  \n3                      0                  0                  0  \n4                      0                  0                  0  \n...                  ...                ...                ...  \n21611                  0                  0                  0  \n21612                  0                  0                  0  \n21613                  0                  0                  0  \n21614                  0                  0                  0  \n21615                  0                  0                  0  \n\n[21502 rows x 271 columns]",
      "text/html": "<div>\n<style scoped>\n    .dataframe tbody tr th:only-of-type {\n        vertical-align: middle;\n    }\n\n    .dataframe tbody tr th {\n        vertical-align: top;\n    }\n\n    .dataframe thead th {\n        text-align: right;\n    }\n</style>\n<table border=\"1\" class=\"dataframe\">\n  <thead>\n    <tr style=\"text-align: right;\">\n      <th></th>\n      <th>intercept</th>\n      <th>price</th>\n      <th>bedrooms</th>\n      <th>bathrooms</th>\n      <th>sqft_living</th>\n      <th>sqft_lot</th>\n      <th>floors</th>\n      <th>waterfront</th>\n      <th>view</th>\n      <th>condition</th>\n      <th>...</th>\n      <th>yr_renovated_1930</th>\n      <th>yr_renovated_1940</th>\n      <th>yr_renovated_1950</th>\n      <th>yr_renovated_1960</th>\n      <th>yr_renovated_1970</th>\n      <th>yr_renovated_1980</th>\n      <th>yr_renovated_1990</th>\n      <th>yr_renovated_2000</th>\n      <th>yr_renovated_2010</th>\n      <th>yr_renovated_2020</th>\n    </tr>\n  </thead>\n  <tbody>\n    <tr>\n      <th>0</th>\n      <td>1.0</td>\n      <td>221900.0</td>\n      <td>3</td>\n      <td>1.00</td>\n      <td>1180</td>\n      <td>5650</td>\n      <td>1.0</td>\n      <td>0</td>\n      <td>0.0</td>\n      <td>3.0</td>\n      <td>...</td>\n      <td>0</td>\n      <td>0</td>\n      <td>0</td>\n      <td>0</td>\n      <td>0</td>\n      <td>0</td>\n      <td>0</td>\n      <td>0</td>\n      <td>0</td>\n      <td>0</td>\n    </tr>\n    <tr>\n      <th>1</th>\n      <td>1.0</td>\n      <td>538000.0</td>\n      <td>3</td>\n      <td>2.25</td>\n      <td>2570</td>\n      <td>7242</td>\n      <td>2.0</td>\n      <td>0</td>\n      <td>0.0</td>\n      <td>3.0</td>\n      <td>...</td>\n      <td>0</td>\n      <td>0</td>\n      <td>0</td>\n      <td>0</td>\n      <td>0</td>\n      <td>0</td>\n      <td>1</td>\n      <td>0</td>\n      <td>0</td>\n      <td>0</td>\n    </tr>\n    <tr>\n      <th>2</th>\n      <td>1.0</td>\n      <td>180000.0</td>\n      <td>2</td>\n      <td>1.00</td>\n      <td>770</td>\n      <td>10000</td>\n      <td>1.0</td>\n      <td>0</td>\n      <td>0.0</td>\n      <td>3.0</td>\n      <td>...</td>\n      <td>0</td>\n      <td>0</td>\n      <td>0</td>\n      <td>0</td>\n      <td>0</td>\n      <td>0</td>\n      <td>0</td>\n      <td>0</td>\n      <td>0</td>\n      <td>0</td>\n    </tr>\n    <tr>\n      <th>3</th>\n      <td>1.0</td>\n      <td>604000.0</td>\n      <td>4</td>\n      <td>3.00</td>\n      <td>1960</td>\n      <td>5000</td>\n      <td>1.0</td>\n      <td>0</td>\n      <td>0.0</td>\n      <td>5.0</td>\n      <td>...</td>\n      <td>0</td>\n      <td>0</td>\n      <td>0</td>\n      <td>0</td>\n      <td>0</td>\n      <td>0</td>\n      <td>0</td>\n      <td>0</td>\n      <td>0</td>\n      <td>0</td>\n    </tr>\n    <tr>\n      <th>4</th>\n      <td>1.0</td>\n      <td>510000.0</td>\n      <td>3</td>\n      <td>2.00</td>\n      <td>1680</td>\n      <td>8080</td>\n      <td>1.0</td>\n      <td>0</td>\n      <td>0.0</td>\n      <td>3.0</td>\n      <td>...</td>\n      <td>0</td>\n      <td>0</td>\n      <td>0</td>\n      <td>0</td>\n      <td>0</td>\n      <td>0</td>\n      <td>0</td>\n      <td>0</td>\n      <td>0</td>\n      <td>0</td>\n    </tr>\n    <tr>\n      <th>...</th>\n      <td>...</td>\n      <td>...</td>\n      <td>...</td>\n      <td>...</td>\n      <td>...</td>\n      <td>...</td>\n      <td>...</td>\n      <td>...</td>\n      <td>...</td>\n      <td>...</td>\n      <td>...</td>\n      <td>...</td>\n      <td>...</td>\n      <td>...</td>\n      <td>...</td>\n      <td>...</td>\n      <td>...</td>\n      <td>...</td>\n      <td>...</td>\n      <td>...</td>\n      <td>...</td>\n    </tr>\n    <tr>\n      <th>21611</th>\n      <td>1.0</td>\n      <td>360000.0</td>\n      <td>3</td>\n      <td>2.50</td>\n      <td>1530</td>\n      <td>1131</td>\n      <td>3.0</td>\n      <td>0</td>\n      <td>0.0</td>\n      <td>3.0</td>\n      <td>...</td>\n      <td>0</td>\n      <td>0</td>\n      <td>0</td>\n      <td>0</td>\n      <td>0</td>\n      <td>0</td>\n      <td>0</td>\n      <td>0</td>\n      <td>0</td>\n      <td>0</td>\n    </tr>\n    <tr>\n      <th>21612</th>\n      <td>1.0</td>\n      <td>400000.0</td>\n      <td>4</td>\n      <td>2.50</td>\n      <td>2310</td>\n      <td>5813</td>\n      <td>2.0</td>\n      <td>0</td>\n      <td>0.0</td>\n      <td>3.0</td>\n      <td>...</td>\n      <td>0</td>\n      <td>0</td>\n      <td>0</td>\n      <td>0</td>\n      <td>0</td>\n      <td>0</td>\n      <td>0</td>\n      <td>0</td>\n      <td>0</td>\n      <td>0</td>\n    </tr>\n    <tr>\n      <th>21613</th>\n      <td>1.0</td>\n      <td>402101.0</td>\n      <td>2</td>\n      <td>0.75</td>\n      <td>1020</td>\n      <td>1350</td>\n      <td>2.0</td>\n      <td>0</td>\n      <td>0.0</td>\n      <td>3.0</td>\n      <td>...</td>\n      <td>0</td>\n      <td>0</td>\n      <td>0</td>\n      <td>0</td>\n      <td>0</td>\n      <td>0</td>\n      <td>0</td>\n      <td>0</td>\n      <td>0</td>\n      <td>0</td>\n    </tr>\n    <tr>\n      <th>21614</th>\n      <td>1.0</td>\n      <td>400000.0</td>\n      <td>3</td>\n      <td>2.50</td>\n      <td>1600</td>\n      <td>2388</td>\n      <td>2.0</td>\n      <td>0</td>\n      <td>0.0</td>\n      <td>3.0</td>\n      <td>...</td>\n      <td>0</td>\n      <td>0</td>\n      <td>0</td>\n      <td>0</td>\n      <td>0</td>\n      <td>0</td>\n      <td>0</td>\n      <td>0</td>\n      <td>0</td>\n      <td>0</td>\n    </tr>\n    <tr>\n      <th>21615</th>\n      <td>1.0</td>\n      <td>325000.0</td>\n      <td>2</td>\n      <td>0.75</td>\n      <td>1020</td>\n      <td>1076</td>\n      <td>2.0</td>\n      <td>0</td>\n      <td>0.0</td>\n      <td>3.0</td>\n      <td>...</td>\n      <td>0</td>\n      <td>0</td>\n      <td>0</td>\n      <td>0</td>\n      <td>0</td>\n      <td>0</td>\n      <td>0</td>\n      <td>0</td>\n      <td>0</td>\n      <td>0</td>\n    </tr>\n  </tbody>\n</table>\n<p>21502 rows × 271 columns</p>\n</div>"
     },
     "execution_count": 4,
     "metadata": {},
     "output_type": "execute_result"
    }
   ],
   "source": [
    "df"
   ],
   "metadata": {
    "collapsed": false,
    "pycharm": {
     "name": "#%%\n"
    }
   }
  },
  {
   "cell_type": "code",
   "execution_count": 44,
   "metadata": {
    "pycharm": {
     "name": "#%%\n"
    }
   },
   "outputs": [
    {
     "data": {
      "text/html": [
       "<div>\n",
       "<style scoped>\n",
       "    .dataframe tbody tr th:only-of-type {\n",
       "        vertical-align: middle;\n",
       "    }\n",
       "\n",
       "    .dataframe tbody tr th {\n",
       "        vertical-align: top;\n",
       "    }\n",
       "\n",
       "    .dataframe thead th {\n",
       "        text-align: right;\n",
       "    }\n",
       "</style>\n",
       "<table border=\"1\" class=\"dataframe\">\n",
       "  <thead>\n",
       "    <tr style=\"text-align: right;\">\n",
       "      <th></th>\n",
       "      <th>lat</th>\n",
       "      <th>long</th>\n",
       "      <th>price</th>\n",
       "    </tr>\n",
       "    <tr>\n",
       "      <th>location</th>\n",
       "      <th></th>\n",
       "      <th></th>\n",
       "      <th></th>\n",
       "    </tr>\n",
       "  </thead>\n",
       "  <tbody>\n",
       "    <tr>\n",
       "      <th>(47.15, -121.95)</th>\n",
       "      <td>47.15</td>\n",
       "      <td>-121.95</td>\n",
       "      <td>590666.666667</td>\n",
       "    </tr>\n",
       "    <tr>\n",
       "      <th>(47.15, -121.65)</th>\n",
       "      <td>47.15</td>\n",
       "      <td>-121.65</td>\n",
       "      <td>380000.000000</td>\n",
       "    </tr>\n",
       "    <tr>\n",
       "      <th>(47.2, -122.05)</th>\n",
       "      <td>47.20</td>\n",
       "      <td>-122.05</td>\n",
       "      <td>413394.000000</td>\n",
       "    </tr>\n",
       "    <tr>\n",
       "      <th>(47.2, -122.0)</th>\n",
       "      <td>47.20</td>\n",
       "      <td>-122.00</td>\n",
       "      <td>269582.000000</td>\n",
       "    </tr>\n",
       "    <tr>\n",
       "      <th>(47.2, -121.95)</th>\n",
       "      <td>47.20</td>\n",
       "      <td>-121.95</td>\n",
       "      <td>321230.000000</td>\n",
       "    </tr>\n",
       "    <tr>\n",
       "      <th>...</th>\n",
       "      <td>...</td>\n",
       "      <td>...</td>\n",
       "      <td>...</td>\n",
       "    </tr>\n",
       "    <tr>\n",
       "      <th>(47.8, -122.25)</th>\n",
       "      <td>47.80</td>\n",
       "      <td>-122.25</td>\n",
       "      <td>398819.500000</td>\n",
       "    </tr>\n",
       "    <tr>\n",
       "      <th>(47.8, -122.2)</th>\n",
       "      <td>47.80</td>\n",
       "      <td>-122.20</td>\n",
       "      <td>418812.500000</td>\n",
       "    </tr>\n",
       "    <tr>\n",
       "      <th>(47.8, -122.15)</th>\n",
       "      <td>47.80</td>\n",
       "      <td>-122.15</td>\n",
       "      <td>558758.888889</td>\n",
       "    </tr>\n",
       "    <tr>\n",
       "      <th>(47.8, -122.1)</th>\n",
       "      <td>47.80</td>\n",
       "      <td>-122.10</td>\n",
       "      <td>657000.000000</td>\n",
       "    </tr>\n",
       "    <tr>\n",
       "      <th>(47.8, -122.05)</th>\n",
       "      <td>47.80</td>\n",
       "      <td>-122.05</td>\n",
       "      <td>515000.000000</td>\n",
       "    </tr>\n",
       "  </tbody>\n",
       "</table>\n",
       "<p>160 rows × 3 columns</p>\n",
       "</div>"
      ],
      "text/plain": [
       "                    lat    long          price\n",
       "location                                      \n",
       "(47.15, -121.95)  47.15 -121.95  590666.666667\n",
       "(47.15, -121.65)  47.15 -121.65  380000.000000\n",
       "(47.2, -122.05)   47.20 -122.05  413394.000000\n",
       "(47.2, -122.0)    47.20 -122.00  269582.000000\n",
       "(47.2, -121.95)   47.20 -121.95  321230.000000\n",
       "...                 ...     ...            ...\n",
       "(47.8, -122.25)   47.80 -122.25  398819.500000\n",
       "(47.8, -122.2)    47.80 -122.20  418812.500000\n",
       "(47.8, -122.15)   47.80 -122.15  558758.888889\n",
       "(47.8, -122.1)    47.80 -122.10  657000.000000\n",
       "(47.8, -122.05)   47.80 -122.05  515000.000000\n",
       "\n",
       "[160 rows x 3 columns]"
      ]
     },
     "execution_count": 44,
     "metadata": {},
     "output_type": "execute_result"
    }
   ],
   "source": [
    "new_df = pd.DataFrame({'lat': df['lat'], 'long': df['long'], 'location': list(zip(df['lat'], df['long'])), 'price': df['price']})\n",
    "new_df = new_df.groupby(['location']).mean()\n",
    "new_df"
   ]
  },
  {
   "cell_type": "code",
   "execution_count": 45,
   "metadata": {
    "pycharm": {
     "name": "#%%\n"
    }
   },
   "outputs": [
    {
     "data": {
      "image/png": "[encoded data removed]",
      "text/plain": [
       "<Figure size 432x288 with 1 Axes>"
      ]
     },
     "metadata": {
      "needs_background": "light"
     },
     "output_type": "display_data"
    }
   ],
   "source": [
    "fig, ax = plt.subplots()\n",
    "scatter = ax.scatter(new_df['long'], new_df['lat'], c=new_df['price'], marker='.', s=200)\n",
    "ax.legend(*scatter.legend_elements(num=5), title=\"price\")\n",
    "ax.grid()\n",
    "# plt.show()"
   ]
  },
  {
   "cell_type": "code",
   "execution_count": 46,
   "metadata": {
    "pycharm": {
     "name": "#%%\n"
    }
   },
   "outputs": [],
   "source": [
    "df['sqft_basement'] = pd.cut(df['sqft_basement'], [-1, 1, 5000], duplicates='drop')\n",
    "df['sqft_basement'] = df['sqft_basement'].astype(str)\n",
    "df = pd.get_dummies(df, columns=['sqft_basement'])"
   ]
  },
  {
   "cell_type": "code",
   "execution_count": 47,
   "metadata": {
    "pycharm": {
     "name": "#%%\n"
    }
   },
   "outputs": [
    {
     "data": {
      "text/html": [
       "<div>\n",
       "<style scoped>\n",
       "    .dataframe tbody tr th:only-of-type {\n",
       "        vertical-align: middle;\n",
       "    }\n",
       "\n",
       "    .dataframe tbody tr th {\n",
       "        vertical-align: top;\n",
       "    }\n",
       "\n",
       "    .dataframe thead th {\n",
       "        text-align: right;\n",
       "    }\n",
       "</style>\n",
       "<table border=\"1\" class=\"dataframe\">\n",
       "  <thead>\n",
       "    <tr style=\"text-align: right;\">\n",
       "      <th></th>\n",
       "      <th>base</th>\n",
       "      <th>price</th>\n",
       "    </tr>\n",
       "  </thead>\n",
       "  <tbody>\n",
       "    <tr>\n",
       "      <th>base</th>\n",
       "      <td>1.000000</td>\n",
       "      <td>0.184077</td>\n",
       "    </tr>\n",
       "    <tr>\n",
       "      <th>price</th>\n",
       "      <td>0.184077</td>\n",
       "      <td>1.000000</td>\n",
       "    </tr>\n",
       "  </tbody>\n",
       "</table>\n",
       "</div>"
      ],
      "text/plain": [
       "           base     price\n",
       "base   1.000000  0.184077\n",
       "price  0.184077  1.000000"
      ]
     },
     "execution_count": 47,
     "metadata": {},
     "output_type": "execute_result"
    },
    {
     "data": {
      "image/png": "[encoded data removed]",
      "text/plain": [
       "<Figure size 432x288 with 1 Axes>"
      ]
     },
     "metadata": {
      "needs_background": "light"
     },
     "output_type": "display_data"
    }
   ],
   "source": [
    "base = df.loc[:,df.columns.str.contains('sqft_basement')]['sqft_basement_(1, 5000]']\n",
    "plt.scatter(base, df['price'])\n",
    "\n",
    "dddd = pd.DataFrame({'base': base, 'price': df['price']})\n",
    "dddd.corr()"
   ]
  },
  {
   "cell_type": "code",
   "execution_count": 48,
   "metadata": {
    "pycharm": {
     "name": "#%%\n"
    }
   },
   "outputs": [
    {
     "data": {
      "text/plain": [
       "7.0     8977\n",
       "8.0     6064\n",
       "9.0     2615\n",
       "6.0     2038\n",
       "10.0    1134\n",
       "11.0     399\n",
       "5.0      242\n",
       "4.0       29\n",
       "3.0        3\n",
       "1.0        1\n",
       "Name: grade, dtype: int64"
      ]
     },
     "execution_count": 48,
     "metadata": {},
     "output_type": "execute_result"
    }
   ],
   "source": [
    "df['grade'].value_counts()\n",
    "# df['grade'].plot(kind='box')"
   ]
  },
  {
   "cell_type": "code",
   "execution_count": null,
   "metadata": {
    "pycharm": {
     "name": "#%%\n"
    }
   },
   "outputs": [],
   "source": [
    "# correlation of X and y\n",
    "df.corr()['price'][1:].abs().sort_values(ascending=False)"
   ]
  },
  {
   "cell_type": "code",
   "execution_count": null,
   "metadata": {
    "pycharm": {
     "name": "#%%\n"
    }
   },
   "outputs": [],
   "source": [
    "X = df.drop(['price'], axis=1).to_numpy()\n",
    "y = df['price'].to_numpy()"
   ]
  },
  {
   "cell_type": "code",
   "execution_count": null,
   "metadata": {
    "pycharm": {
     "name": "#%%\n"
    }
   },
   "outputs": [],
   "source": [
    "np.cov(X, y, rowvar=False)[-1, :-1] / np.sqrt(np.var(y, ddof=1) * np.var(X, axis=0, ddof=1))\n"
   ]
  },
  {
   "cell_type": "markdown",
   "metadata": {
    "pycharm": {
     "name": "#%% md\n"
    }
   },
   "source": [
    "## preprocessing\n",
    "___\n",
    "\n"
   ]
  },
  {
   "cell_type": "markdown",
   "metadata": {
    "pycharm": {
     "name": "#%% md\n"
    }
   },
   "source": [
    "### find correlation between features"
   ]
  },
  {
   "cell_type": "code",
   "execution_count": null,
   "metadata": {
    "pycharm": {
     "name": "#%%\n"
    }
   },
   "outputs": [],
   "source": [
    "corr = df.drop(['id', 'price'], axis=1).corr().abs()\n",
    "# (corr > 0.8)\n",
    "corr\n"
   ]
  },
  {
   "cell_type": "code",
   "execution_count": null,
   "metadata": {},
   "outputs": [],
   "source": [
    "df['sqft_basement'].corr(df['sqft_living'])\n",
    "df['sqft_living'].corr(df['sqft_basement'])\n"
   ]
  },
  {
   "cell_type": "code",
   "execution_count": null,
   "metadata": {
    "pycharm": {
     "name": "#%%\n"
    }
   },
   "outputs": [],
   "source": [
    "X = df.drop(['id', 'date', 'price'], axis=1).to_numpy()\n",
    "Y = df['price'].to_numpy()"
   ]
  },
  {
   "cell_type": "code",
   "execution_count": null,
   "metadata": {
    "pycharm": {
     "name": "#%%\n"
    }
   },
   "outputs": [],
   "source": [
    "print(X)\n",
    "print(Y)"
   ]
  },
  {
   "cell_type": "markdown",
   "metadata": {
    "pycharm": {
     "name": "#%% md\n"
    }
   },
   "source": [
    "### check for data validity"
   ]
  },
  {
   "cell_type": "code",
   "execution_count": null,
   "metadata": {
    "pycharm": {
     "name": "#%%\n"
    }
   },
   "outputs": [],
   "source": [
    "U, Sigma, V = np.linalg.svd(X)"
   ]
  },
  {
   "cell_type": "code",
   "execution_count": null,
   "metadata": {
    "pycharm": {
     "name": "#%%\n"
    }
   },
   "outputs": [],
   "source": [
    "XTX = X.T @ X\n",
    "Ut, Sigmat, Vt = np.linalg.svd(XTX)"
   ]
  },
  {
   "cell_type": "code",
   "execution_count": null,
   "metadata": {
    "pycharm": {
     "name": "#%%\n"
    }
   },
   "outputs": [],
   "source": [
    "epsilon = 0.0001\n",
    "Sigma[Sigma < epsilon] = 0\n",
    "print(np.where(np.array(Sigma) > 0))\n",
    "Sigma"
   ]
  },
  {
   "cell_type": "code",
   "execution_count": null,
   "metadata": {
    "pycharm": {
     "name": "#%%\n"
    }
   },
   "outputs": [],
   "source": [
    "Sigmat = np.array(Sigmat)\n",
    "np.where(Sigmat < epsilon)"
   ]
  },
  {
   "cell_type": "code",
   "execution_count": null,
   "metadata": {
    "pycharm": {
     "name": "#%%\n"
    }
   },
   "outputs": [],
   "source": [
    "epsilon = 0.0001\n",
    "training_errors = []\n",
    "test_errors = []\n",
    "\n",
    "for i in range(1,100):\n",
    "    # create test/train split\n",
    "    train = df.sample(frac=(i/100),random_state=200) #random state is a seed value\n",
    "    test = df.drop(train.index)\n",
    "\n",
    "    # train the model\n",
    "    x = train.drop(['id', 'date', 'price'], axis=1).to_numpy()\n",
    "    y = train['price'].to_numpy()\n",
    "\n",
    "    # find the best weights\n",
    "    u, s, v = np.linalg.svd(x)\n",
    "    s[s < epsilon] = 0\n",
    "    s_inv = la.diagsvd(np.reciprocal(s, where=(s != 0)), *x.shape).T\n",
    "    w = v.T @ s_inv @ u.T @ y\n",
    "\n",
    "    # calculate the rss over training dataset\n",
    "    rss_train = np.linalg.norm(np.dot(x, w)-y)**2\n",
    "    training_errors.append(rss_train)\n",
    "\n",
    "    # calculate the rss over test dataset\n",
    "    x = test.drop(['id', 'date', 'price'], axis=1).to_numpy()\n",
    "    y = test['price'].to_numpy()\n",
    "    rss_test = np.linalg.norm(np.dot(x, w)-y)**2\n",
    "    test_errors.append(rss_test)"
   ]
  },
  {
   "cell_type": "code",
   "execution_count": null,
   "metadata": {
    "pycharm": {
     "name": "#%%\n"
    }
   },
   "outputs": [],
   "source": [
    "percentage = np.arange(1, 100)\n",
    "plt.scatter(percentage, training_errors, label='train-error')\n",
    "plt.scatter(percentage, test_errors, label='test-error')\n",
    "plt.legend()\n",
    "plt.title(\"errors by training/test split\")\n",
    "plt.xlabel(\"training set size (%)\")\n",
    "plt.ylabel(\"rss (1e15\")\n",
    "plt.show()"
   ]
  }
 ],
 "metadata": {
  "kernelspec": {
   "display_name": "PyCharm (IML.HUJI)",
   "language": "python",
   "name": "pycharm-2f16100c"
  },
  "language_info": {
   "codemirror_mode": {
    "name": "ipython",
    "version": 3
   },
   "file_extension": ".py",
   "mimetype": "text/x-python",
   "name": "python",
   "nbconvert_exporter": "python",
   "pygments_lexer": "ipython3",
   "version": "3.7.9"
  }
 },
 "nbformat": 4,
 "nbformat_minor": 2
}