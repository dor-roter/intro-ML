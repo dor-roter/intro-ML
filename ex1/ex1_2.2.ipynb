{
 "cells": [
  {
   "cell_type": "markdown",
   "metadata": {},
   "source": [
    "# Ex1 - Concentration Inequalities (Question 2.2)\n",
    "---"
   ]
  },
  {
   "cell_type": "markdown",
   "metadata": {},
   "source": [
    "Handle imports"
   ]
  },
  {
   "cell_type": "code",
   "execution_count": 24,
   "metadata": {
    "pycharm": {
     "name": "#%%\n"
    }
   },
   "outputs": [],
   "source": [
    "import numpy as np\n",
    "import matplotlib.pyplot as plt\n",
    "\n",
    "plt.rcParams.update({\n",
    "    'font.size': 12,\n",
    "    'text.usetex': True,\n",
    "    'text.latex.preamble': r'\\usepackage{amsfonts}'\n",
    "})"
   ]
  },
  {
   "cell_type": "markdown",
   "metadata": {},
   "source": [
    "generate the dataset: 100000 sequences of 1000 coin tosses"
   ]
  },
  {
   "cell_type": "code",
   "execution_count": 25,
   "metadata": {
    "pycharm": {
     "name": "#%%\n"
    }
   },
   "outputs": [],
   "source": [
    "SEQUENCES = 100000\n",
    "TOSSES = 1000\n",
    "\n",
    "# p-coin\n",
    "p = 0.25\n",
    "\n",
    "# epsilon values for the next questions\n",
    "epsilons = [0.5,0.25,0.1,0.01,0.001]\n",
    "\n",
    "# used as the x axis for the plots (1,...,TOSSES)\n",
    "m = np.arange(TOSSES)+1"
   ]
  },
  {
   "cell_type": "code",
   "execution_count": 26,
   "metadata": {
    "pycharm": {
     "name": "#%%\n"
    }
   },
   "outputs": [
    {
     "name": "stdout",
     "output_type": "stream",
     "text": [
      "shape: (100000, 1000)\n",
      "[[0 0 0 ... 1 0 0]\n",
      " [0 0 0 ... 0 0 0]\n",
      " [0 1 0 ... 0 0 1]\n",
      " ...\n",
      " [0 0 0 ... 0 0 1]\n",
      " [0 0 0 ... 0 0 0]\n",
      " [0 1 0 ... 0 1 1]]\n"
     ]
    }
   ],
   "source": [
    "data = np.random.binomial(1, p, (SEQUENCES, TOSSES))\n",
    "print(f\"shape: {data.shape}\")\n",
    "print(data)"
   ]
  },
  {
   "cell_type": "markdown",
   "metadata": {},
   "source": [
    "### (a) - Defining the Estimation\n",
    "For the first 5 sequences of 1000 tosses (the first 5 rows in “data”), plot the estimate\n",
    "$\\overline{X}_m$ as a function of m (i.e the mean of all tosses up to $m$). 1 figure with 5\n",
    "plots (each row in a different color). What do you expect to see in this plot as $m$ grows?\n"
   ]
  },
  {
   "cell_type": "code",
   "execution_count": 27,
   "metadata": {
    "pycharm": {
     "name": "#%%\n"
    }
   },
   "outputs": [
    {
     "data": {
      "image/png": "[encoded data removed]",
      "text/plain": [
       "<Figure size 432x288 with 1 Axes>"
      ]
     },
     "metadata": {
      "needs_background": "light"
     },
     "output_type": "display_data"
    }
   ],
   "source": [
    "ESTIMATION_SET_SIZE = 5\n",
    "EPS_LEN = len(epsilons)\n",
    "\n",
    "# run the estimation on a ESTIMATION_SIZE sequences of the dataset\n",
    "estimations = data[:ESTIMATION_SET_SIZE,:].cumsum(axis=1) / m\n",
    "\n",
    "# plot estimations for every sequence of the first ESTIMATION_SIZE sequences\n",
    "plt.figure()\n",
    "for estimation in estimations:\n",
    "    plt.plot(m, estimation)\n",
    "\n",
    "plt.title(r'$\\overline{X}_m$ estimate')\n",
    "plt.xlabel('m')\n",
    "plt.ylabel(r'$\\overline{X}_m$')\n",
    "plt.show()"
   ]
  },
  {
   "cell_type": "markdown",
   "metadata": {
    "pycharm": {
     "name": "#%% md\n"
    }
   },
   "source": [
    "## Answer\n",
    "___\n",
    "\n",
    "__(a).__ As stated by the law of large numbers, the larger the sample size ($m$), the closer the\n",
    "average ($\\overline{X}_m$) will be to actual mean of the coin - which seems to be roughly $\\frac{1}{4}$.\n",
    "We can clearly see the value of each of the sequences converging to the same value, which corresponds, as expected,\n",
    "to the fact all sequences were created using the same \"coin\"."
   ]
  },
  {
   "cell_type": "markdown",
   "metadata": {},
   "source": [
    "### (b)&(c) Upper and actual bounds\n",
    "(b). For each bound (Chebyshev and Hoeffding seen in class) and for each ε, plot the upper\n",
    "bound on $\\mathbb{P}(|\\overline{X}_m-\\mathbb{E}[X]|≥\\epsilon)$ (derived in class) as a function of m (where m\n",
    "ranges from 1 to 1000). 5 figures with 2 plots each (mention in the title of each plot what\n",
    "is `ε` and use a different color for each bound)\n",
    "\n",
    "(c). You are now told that $p = 0.25$. On top of the figures from the previous question, plot\n",
    "the percentage of sequences that satisfy  $|\\overline{X}_m-\\mathbb{E}[X]|≥\\epsilon$ as a function of m (now you\n",
    "know $\\mathbb{E}[X] = p = 0.25$). What are you expecting to see in these plots? Explain"
   ]
  },
  {
   "cell_type": "code",
   "execution_count": 28,
   "metadata": {
    "pycharm": {
     "name": "#%%\n"
    }
   },
   "outputs": [
    {
     "ename": "MemoryError",
     "evalue": "Unable to allocate 763. MiB for an array with shape (100000, 1000) and data type float64",
     "output_type": "error",
     "traceback": [
      "\u001B[1;31m---------------------------------------------------------------------------\u001B[0m",
      "\u001B[1;31mMemoryError\u001B[0m                               Traceback (most recent call last)",
      "\u001B[1;32m<ipython-input-28-aa52a1e81b7b>\u001B[0m in \u001B[0;36m<module>\u001B[1;34m\u001B[0m\n\u001B[0;32m      2\u001B[0m \u001B[0mhoeffding\u001B[0m \u001B[1;33m=\u001B[0m \u001B[1;32mlambda\u001B[0m \u001B[0mn\u001B[0m\u001B[1;33m,\u001B[0m\u001B[0me\u001B[0m\u001B[1;33m:\u001B[0m \u001B[0mmin\u001B[0m\u001B[1;33m(\u001B[0m\u001B[1;36m2\u001B[0m\u001B[1;33m*\u001B[0m\u001B[0mnp\u001B[0m\u001B[1;33m.\u001B[0m\u001B[0mexp\u001B[0m\u001B[1;33m(\u001B[0m\u001B[1;33m-\u001B[0m\u001B[1;36m2\u001B[0m\u001B[1;33m*\u001B[0m\u001B[0mn\u001B[0m\u001B[1;33m*\u001B[0m\u001B[1;33m(\u001B[0m\u001B[0me\u001B[0m\u001B[1;33m**\u001B[0m\u001B[1;36m2\u001B[0m\u001B[1;33m)\u001B[0m\u001B[1;33m)\u001B[0m\u001B[1;33m,\u001B[0m\u001B[1;36m1\u001B[0m\u001B[1;33m)\u001B[0m\u001B[1;33m\u001B[0m\u001B[1;33m\u001B[0m\u001B[0m\n\u001B[0;32m      3\u001B[0m \u001B[1;33m\u001B[0m\u001B[0m\n\u001B[1;32m----> 4\u001B[1;33m \u001B[0mdeltas\u001B[0m \u001B[1;33m=\u001B[0m \u001B[0mnp\u001B[0m\u001B[1;33m.\u001B[0m\u001B[0mabs\u001B[0m\u001B[1;33m(\u001B[0m\u001B[1;33m(\u001B[0m\u001B[0mdata\u001B[0m\u001B[1;33m.\u001B[0m\u001B[0mcumsum\u001B[0m\u001B[1;33m(\u001B[0m\u001B[0maxis\u001B[0m\u001B[1;33m=\u001B[0m\u001B[1;36m1\u001B[0m\u001B[1;33m)\u001B[0m \u001B[1;33m/\u001B[0m \u001B[0mm\u001B[0m\u001B[1;33m)\u001B[0m\u001B[1;33m-\u001B[0m\u001B[0mp\u001B[0m\u001B[1;33m)\u001B[0m\u001B[1;33m\u001B[0m\u001B[1;33m\u001B[0m\u001B[0m\n\u001B[0m\u001B[0;32m      5\u001B[0m \u001B[1;33m\u001B[0m\u001B[0m\n\u001B[0;32m      6\u001B[0m \u001B[0mfig\u001B[0m\u001B[1;33m,\u001B[0m \u001B[0maxs\u001B[0m \u001B[1;33m=\u001B[0m \u001B[0mplt\u001B[0m\u001B[1;33m.\u001B[0m\u001B[0msubplots\u001B[0m\u001B[1;33m(\u001B[0m\u001B[1;36m3\u001B[0m\u001B[1;33m,\u001B[0m \u001B[1;36m2\u001B[0m\u001B[1;33m,\u001B[0m \u001B[0mfigsize\u001B[0m\u001B[1;33m=\u001B[0m\u001B[1;33m(\u001B[0m\u001B[1;36m15\u001B[0m\u001B[1;33m,\u001B[0m\u001B[1;36m15\u001B[0m\u001B[1;33m)\u001B[0m\u001B[1;33m,\u001B[0m \u001B[0medgecolor\u001B[0m\u001B[1;33m=\u001B[0m\u001B[1;34m\"#e4e6e8\"\u001B[0m\u001B[1;33m,\u001B[0m \u001B[0mconstrained_layout\u001B[0m\u001B[1;33m=\u001B[0m\u001B[1;32mTrue\u001B[0m\u001B[1;33m)\u001B[0m\u001B[1;33m\u001B[0m\u001B[1;33m\u001B[0m\u001B[0m\n",
      "\u001B[1;31mMemoryError\u001B[0m: Unable to allocate 763. MiB for an array with shape (100000, 1000) and data type float64"
     ]
    }
   ],
   "source": [
    "chebyshev = lambda n,e: min(1/(4*n*(e**2)),1)\n",
    "hoeffding = lambda n,e: min(2*np.exp(-2*n*(e**2)),1)\n",
    "\n",
    "deltas = np.abs((data.cumsum(axis=1) / m)-p)\n",
    "\n",
    "fig, axs = plt.subplots(3, 2, figsize=(15,15), edgecolor=\"#e4e6e8\", constrained_layout=True)\n",
    "for j, eps in enumerate(epsilons):\n",
    "    ax = axs[int(j/2),(j%2)]\n",
    "    percentage = np.sum((deltas >= eps), axis=0) / SEQUENCES\n",
    "\n",
    "    ax.plot(m, [chebyshev(i, eps) for i in m], label='chebyshev')\n",
    "    ax.plot(m, [hoeffding(i, eps) for i in m], label='hoeffding')\n",
    "    ax.scatter(m, percentage, marker='.',label=\"percentage\", edgecolors='red', alpha=0.5)\n",
    "\n",
    "    ax.legend()\n",
    "    ax.set_xlabel(\"m\")\n",
    "    ax.set_ylabel(\"satisfied sequences (\\%) / upper bound \")\n",
    "    ax.set_title(r'$|\\overline{X}_m-\\mathbb{E}[X]|\\geq ' + str(eps) + '$', fontsize=16)\n",
    "\n",
    "fig.delaxes(axs[2, 1])\n",
    "fig.suptitle(\"Upper\\&actual bounds\", fontsize=16)\n",
    "plt.show()"
   ]
  },
  {
   "cell_type": "markdown",
   "metadata": {
    "pycharm": {
     "name": "#%% md\n"
    }
   },
   "source": [
    "## Answers:\n",
    "___\n",
    "\n",
    "__(b).__  Since we know the dataset is of some p-biased coin:\n",
    " $X_i{\\sim}Ber(p)\\, \\Rightarrow Var(X_i)=p\\cdot(1-p) \\leq \\frac{1}{4}$.\n",
    " Therefore, we can now analytically calculate both upper bound - Chebyshev's and Hoeffding's,\n",
    " as shown in the recitation.\n",
    "\n",
    "__(c).__ Now that we know as a matter of fact $\\mathbb{E}[X]=0.25$, I was expecting to see the plots converging to the value $0$\n",
    "as $m$ grows larger, while also the larger the epsilon value is, the faster the plot will converge to 0 -\n",
    "meaning almost all the computed $\\overline{X}_m$ sequences values (estimated means) are in the epsilon range of the actual mean.\n",
    "So we can see as a matter of fact:\n",
    "$$\\forall\\epsilon>0\\ \\lim_{m \\to \\infty}\\mathbb{P}(|\\overline{X}_m-\\mathbb{E}(X)|>\\epsilon)=0$$\n",
    "Exactly as stated by the law of large numbers.\n"
   ]
  }
 ],
 "metadata": {
  "kernelspec": {
   "display_name": "Python 3",
   "language": "python",
   "name": "python3"
  },
  "language_info": {
   "codemirror_mode": {
    "name": "ipython",
    "version": 3
   },
   "file_extension": ".py",
   "mimetype": "text/x-python",
   "name": "python",
   "nbconvert_exporter": "python",
   "pygments_lexer": "ipython3",
   "version": "3.7.2"
  }
 },
 "nbformat": 4,
 "nbformat_minor": 2
}