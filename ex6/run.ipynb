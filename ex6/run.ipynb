{
 "cells": [
  {
   "cell_type": "code",
   "execution_count": 1,
   "metadata": {
    "collapsed": true
   },
   "outputs": [],
   "source": [
    "import numpy as np\n",
    "import matplotlib.pyplot as plt\n",
    "\n",
    "import mnist_loader\n",
    "import network"
   ]
  },
  {
   "cell_type": "code",
   "execution_count": 2,
   "outputs": [],
   "source": [
    "training_data, validation_data, test_data = mnist_loader.load_data_wrapper()"
   ],
   "metadata": {
    "collapsed": false,
    "pycharm": {
     "name": "#%%\n"
    }
   }
  },
  {
   "cell_type": "code",
   "execution_count": 3,
   "outputs": [],
   "source": [
    "accuracies = []\n",
    "nets = []"
   ],
   "metadata": {
    "collapsed": false,
    "pycharm": {
     "name": "#%%\n"
    }
   }
  },
  {
   "cell_type": "code",
   "execution_count": 4,
   "outputs": [],
   "source": [
    "BATCH_SIZE = 40\n",
    "ETA = 3\n",
    "EPOCHS = 30\n",
    "archs= [[784, 64, 64, 10]]\n",
    "epochs = np.arange(EPOCHS)"
   ],
   "metadata": {
    "collapsed": false,
    "pycharm": {
     "name": "#%%\n"
    }
   }
  },
  {
   "cell_type": "code",
   "execution_count": 5,
   "outputs": [
    {
     "name": "stdout",
     "output_type": "stream",
     "text": [
      "Epoch 0: 7150 / 10000\n",
      "Epoch 1: 8338 / 10000\n",
      "Epoch 2: 9240 / 10000\n",
      "Epoch 3: 9349 / 10000\n",
      "Epoch 4: 9412 / 10000\n",
      "Epoch 5: 9447 / 10000\n",
      "Epoch 6: 9472 / 10000\n",
      "Epoch 7: 9447 / 10000\n",
      "Epoch 8: 9507 / 10000\n",
      "Epoch 9: 9499 / 10000\n",
      "Epoch 10: 9505 / 10000\n",
      "Epoch 11: 9526 / 10000\n",
      "Epoch 12: 9513 / 10000\n",
      "Epoch 13: 9549 / 10000\n",
      "Epoch 14: 9517 / 10000\n",
      "Epoch 15: 9550 / 10000\n",
      "Epoch 16: 9581 / 10000\n",
      "Epoch 17: 9576 / 10000\n",
      "Epoch 18: 9583 / 10000\n",
      "Epoch 19: 9581 / 10000\n",
      "Epoch 20: 9587 / 10000\n",
      "Epoch 21: 9589 / 10000\n",
      "Epoch 22: 9582 / 10000\n",
      "Epoch 23: 9600 / 10000\n",
      "Epoch 24: 9593 / 10000\n",
      "Epoch 25: 9601 / 10000\n",
      "Epoch 26: 9589 / 10000\n",
      "Epoch 27: 9583 / 10000\n",
      "Epoch 28: 9588 / 10000\n",
      "Epoch 29: 9592 / 10000\n"
     ]
    },
    {
     "data": {
      "text/plain": "9592"
     },
     "execution_count": 5,
     "metadata": {},
     "output_type": "execute_result"
    }
   ],
   "source": [
    "for arch in archs:\n",
    "    net = network.Network(arch)\n",
    "    nets.append(net)\n",
    "    accuracies.append(net.SGD(training_data, epochs=EPOCHS, mini_batch_size=BATCH_SIZE, eta=ETA, test_data=test_data))\n",
    "\n",
    "nets[-1].evaluate(test_data)"
   ],
   "metadata": {
    "collapsed": false,
    "pycharm": {
     "name": "#%%\n"
    }
   }
  },
  {
   "cell_type": "code",
   "execution_count": null,
   "outputs": [
    {
     "name": "stdout",
     "output_type": "stream",
     "text": [
      "Epoch 0: 9123 / 10000\n",
      "Epoch 1: 9198 / 10000\n",
      "Epoch 2: 9080 / 10000\n",
      "Epoch 3: 9301 / 10000\n",
      "Epoch 4: 9287 / 10000\n",
      "Epoch 5: 9262 / 10000\n",
      "Epoch 6: 9329 / 10000\n",
      "Epoch 7: 9343 / 10000\n",
      "Epoch 8: 9322 / 10000\n"
     ]
    }
   ],
   "source": [
    "accuracies.append(nets[-1].SGD(training_data, epochs=EPOCHS, mini_batch_size=3, eta=1, test_data=test_data))"
   ],
   "metadata": {
    "collapsed": false,
    "pycharm": {
     "name": "#%%\n",
     "is_executing": true
    }
   }
  },
  {
   "cell_type": "code",
   "execution_count": 13,
   "outputs": [
    {
     "data": {
      "text/plain": "<Figure size 432x288 with 1 Axes>",
      "image/png": "[encoded data removed]"
     },
     "metadata": {
      "needs_background": "light"
     },
     "output_type": "display_data"
    }
   ],
   "source": [
    "for i in range(0,len(accuracies)):\n",
    "    plt.plot(epochs, accuracies[i], label=f\"arch {i}\")\n",
    "plt.xlabel('epochs')\n",
    "plt.ylabel('accuracy')\n",
    "plt.legend()\n",
    "plt.show()"
   ],
   "metadata": {
    "collapsed": false,
    "pycharm": {
     "name": "#%%\n"
    }
   }
  },
  {
   "cell_type": "code",
   "execution_count": 7,
   "outputs": [],
   "source": [
    "# import pickle"
   ],
   "metadata": {
    "collapsed": false,
    "pycharm": {
     "name": "#%%\n"
    }
   }
  },
  {
   "cell_type": "code",
   "execution_count": 8,
   "outputs": [],
   "source": [
    "# save the model to disk\n",
    "# filename = 'finalized_model.sav'\n",
    "# pickle.dump(net, open(filename, 'wb'))"
   ],
   "metadata": {
    "collapsed": false,
    "pycharm": {
     "name": "#%%\n"
    }
   }
  },
  {
   "cell_type": "code",
   "execution_count": 9,
   "outputs": [],
   "source": [
    "# loaded_model = pickle.load(open('finalized_model.sav', 'rb'))"
   ],
   "metadata": {
    "collapsed": false,
    "pycharm": {
     "name": "#%%\n"
    }
   }
  },
  {
   "cell_type": "code",
   "execution_count": 10,
   "outputs": [],
   "source": [
    "# loaded_model.evaluate(test_data)"
   ],
   "metadata": {
    "collapsed": false,
    "pycharm": {
     "name": "#%%\n"
    }
   }
  }
 ],
 "metadata": {
  "kernelspec": {
   "name": "pycharm-171886c0",
   "language": "python",
   "display_name": "PyCharm (ex6)"
  },
  "language_info": {
   "codemirror_mode": {
    "name": "ipython",
    "version": 2
   },
   "file_extension": ".py",
   "mimetype": "text/x-python",
   "name": "python",
   "nbconvert_exporter": "python",
   "pygments_lexer": "ipython2",
   "version": "2.7.6"
  }
 },
 "nbformat": 4,
 "nbformat_minor": 0
}